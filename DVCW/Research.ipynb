{
 "cells": [
  {
   "cell_type": "code",
   "execution_count": 99,
   "metadata": {
    "scrolled": false
   },
   "outputs": [
    {
     "data": {
      "text/html": [
       "<div>\n",
       "<style scoped>\n",
       "    .dataframe tbody tr th:only-of-type {\n",
       "        vertical-align: middle;\n",
       "    }\n",
       "\n",
       "    .dataframe tbody tr th {\n",
       "        vertical-align: top;\n",
       "    }\n",
       "\n",
       "    .dataframe thead th {\n",
       "        text-align: right;\n",
       "    }\n",
       "</style>\n",
       "<table border=\"1\" class=\"dataframe\">\n",
       "  <thead>\n",
       "    <tr style=\"text-align: right;\">\n",
       "      <th></th>\n",
       "      <th>rundate</th>\n",
       "      <th>reporting_period</th>\n",
       "      <th>reporting_airport_group_name</th>\n",
       "      <th>reporting_airport_name</th>\n",
       "      <th>total_pax</th>\n",
       "      <th>pax_terminal_scheduled_UK</th>\n",
       "      <th>pax_transit_scheduled_UK</th>\n",
       "      <th>pax_terminal_scheduled_foreign_EU</th>\n",
       "      <th>pax_transit_scheduled_foreign_EU</th>\n",
       "      <th>pax_terminal_scheduled_foreign_non_EU</th>\n",
       "      <th>pax_transit_scheduled_foreign_non_EU</th>\n",
       "      <th>pax_terminal_charter_UK</th>\n",
       "      <th>pax_transit_charter_UK</th>\n",
       "      <th>pax_terminal_charter_foreign_EU</th>\n",
       "      <th>pax_transit_charter_foreign_EU</th>\n",
       "      <th>pax_terminal_charter_foreign_non_EU</th>\n",
       "      <th>pax_transit_charter_foreign_non_EU</th>\n",
       "    </tr>\n",
       "  </thead>\n",
       "  <tbody>\n",
       "    <tr>\n",
       "      <td>0</td>\n",
       "      <td>12/03/2019 14:40</td>\n",
       "      <td>12/04/2019 14:40</td>\n",
       "      <td>Other UK Airports</td>\n",
       "      <td>BELFAST INTERNATIONAL</td>\n",
       "      <td>405935</td>\n",
       "      <td>317825</td>\n",
       "      <td>0</td>\n",
       "      <td>78763</td>\n",
       "      <td>0</td>\n",
       "      <td>0</td>\n",
       "      <td>0</td>\n",
       "      <td>9052</td>\n",
       "      <td>0</td>\n",
       "      <td>295</td>\n",
       "      <td>0</td>\n",
       "      <td>0</td>\n",
       "      <td>0</td>\n",
       "    </tr>\n",
       "    <tr>\n",
       "      <td>1</td>\n",
       "      <td>12/03/2019 14:40</td>\n",
       "      <td>201901</td>\n",
       "      <td>Other UK Airports</td>\n",
       "      <td>BIRMINGHAM</td>\n",
       "      <td>781258</td>\n",
       "      <td>263931</td>\n",
       "      <td>0</td>\n",
       "      <td>336264</td>\n",
       "      <td>0</td>\n",
       "      <td>121819</td>\n",
       "      <td>51</td>\n",
       "      <td>56985</td>\n",
       "      <td>0</td>\n",
       "      <td>2208</td>\n",
       "      <td>0</td>\n",
       "      <td>0</td>\n",
       "      <td>0</td>\n",
       "    </tr>\n",
       "    <tr>\n",
       "      <td>2</td>\n",
       "      <td>12/03/2019 14:40</td>\n",
       "      <td>201901</td>\n",
       "      <td>Other UK Airports</td>\n",
       "      <td>BRISTOL</td>\n",
       "      <td>520854</td>\n",
       "      <td>328895</td>\n",
       "      <td>427</td>\n",
       "      <td>150611</td>\n",
       "      <td>0</td>\n",
       "      <td>0</td>\n",
       "      <td>0</td>\n",
       "      <td>35378</td>\n",
       "      <td>0</td>\n",
       "      <td>5543</td>\n",
       "      <td>0</td>\n",
       "      <td>0</td>\n",
       "      <td>0</td>\n",
       "    </tr>\n",
       "    <tr>\n",
       "      <td>3</td>\n",
       "      <td>12/03/2019 14:40</td>\n",
       "      <td>201901</td>\n",
       "      <td>Other UK Airports</td>\n",
       "      <td>EDINBURGH</td>\n",
       "      <td>920098</td>\n",
       "      <td>509602</td>\n",
       "      <td>391</td>\n",
       "      <td>347991</td>\n",
       "      <td>0</td>\n",
       "      <td>47818</td>\n",
       "      <td>226</td>\n",
       "      <td>12833</td>\n",
       "      <td>0</td>\n",
       "      <td>1237</td>\n",
       "      <td>0</td>\n",
       "      <td>0</td>\n",
       "      <td>0</td>\n",
       "    </tr>\n",
       "    <tr>\n",
       "      <td>4</td>\n",
       "      <td>12/03/2019 14:40</td>\n",
       "      <td>201901</td>\n",
       "      <td>London Area Airports</td>\n",
       "      <td>GATWICK</td>\n",
       "      <td>2953515</td>\n",
       "      <td>1982446</td>\n",
       "      <td>0</td>\n",
       "      <td>531007</td>\n",
       "      <td>0</td>\n",
       "      <td>276756</td>\n",
       "      <td>0</td>\n",
       "      <td>155688</td>\n",
       "      <td>0</td>\n",
       "      <td>7425</td>\n",
       "      <td>0</td>\n",
       "      <td>193</td>\n",
       "      <td>0</td>\n",
       "    </tr>\n",
       "  </tbody>\n",
       "</table>\n",
       "</div>"
      ],
      "text/plain": [
       "            rundate  reporting_period reporting_airport_group_name  \\\n",
       "0  12/03/2019 14:40  12/04/2019 14:40            Other UK Airports   \n",
       "1  12/03/2019 14:40            201901            Other UK Airports   \n",
       "2  12/03/2019 14:40            201901            Other UK Airports   \n",
       "3  12/03/2019 14:40            201901            Other UK Airports   \n",
       "4  12/03/2019 14:40            201901         London Area Airports   \n",
       "\n",
       "  reporting_airport_name  total_pax  pax_terminal_scheduled_UK  \\\n",
       "0  BELFAST INTERNATIONAL     405935                     317825   \n",
       "1             BIRMINGHAM     781258                     263931   \n",
       "2                BRISTOL     520854                     328895   \n",
       "3              EDINBURGH     920098                     509602   \n",
       "4                GATWICK    2953515                    1982446   \n",
       "\n",
       "   pax_transit_scheduled_UK  pax_terminal_scheduled_foreign_EU  \\\n",
       "0                         0                              78763   \n",
       "1                         0                             336264   \n",
       "2                       427                             150611   \n",
       "3                       391                             347991   \n",
       "4                         0                             531007   \n",
       "\n",
       "   pax_transit_scheduled_foreign_EU  pax_terminal_scheduled_foreign_non_EU  \\\n",
       "0                                 0                                      0   \n",
       "1                                 0                                 121819   \n",
       "2                                 0                                      0   \n",
       "3                                 0                                  47818   \n",
       "4                                 0                                 276756   \n",
       "\n",
       "   pax_transit_scheduled_foreign_non_EU  pax_terminal_charter_UK  \\\n",
       "0                                     0                     9052   \n",
       "1                                    51                    56985   \n",
       "2                                     0                    35378   \n",
       "3                                   226                    12833   \n",
       "4                                     0                   155688   \n",
       "\n",
       "   pax_transit_charter_UK  pax_terminal_charter_foreign_EU  \\\n",
       "0                       0                              295   \n",
       "1                       0                             2208   \n",
       "2                       0                             5543   \n",
       "3                       0                             1237   \n",
       "4                       0                             7425   \n",
       "\n",
       "   pax_transit_charter_foreign_EU  pax_terminal_charter_foreign_non_EU  \\\n",
       "0                               0                                    0   \n",
       "1                               0                                    0   \n",
       "2                               0                                    0   \n",
       "3                               0                                    0   \n",
       "4                               0                                  193   \n",
       "\n",
       "   pax_transit_charter_foreign_non_EU  \n",
       "0                                   0  \n",
       "1                                   0  \n",
       "2                                   0  \n",
       "3                                   0  \n",
       "4                                   0  "
      ]
     },
     "execution_count": 99,
     "metadata": {},
     "output_type": "execute_result"
    }
   ],
   "source": [
    "#importing required libraries\n",
    "import matplotlib as plt\n",
    "import pandas as pd\n",
    "\n",
    "#reading the .csv and loading it into the dataframe\n",
    "data = pd.read_csv('./Copy of Table_08_Air_Pax_by_Type_and_Nat_of_Op(3).csv')\n",
    "\n",
    "data.head()\n"
   ]
  },
  {
   "cell_type": "code",
   "execution_count": null,
   "metadata": {
    "scrolled": true
   },
   "outputs": [],
   "source": []
  },
  {
   "cell_type": "code",
   "execution_count": 70,
   "metadata": {},
   "outputs": [
    {
     "data": {
      "text/html": [
       "<div>\n",
       "<style scoped>\n",
       "    .dataframe tbody tr th:only-of-type {\n",
       "        vertical-align: middle;\n",
       "    }\n",
       "\n",
       "    .dataframe tbody tr th {\n",
       "        vertical-align: top;\n",
       "    }\n",
       "\n",
       "    .dataframe thead th {\n",
       "        text-align: right;\n",
       "    }\n",
       "</style>\n",
       "<table border=\"1\" class=\"dataframe\">\n",
       "  <thead>\n",
       "    <tr style=\"text-align: right;\">\n",
       "      <th></th>\n",
       "      <th>reporting_airport_group_name</th>\n",
       "      <th>reporting_airport_name</th>\n",
       "      <th>total_pax</th>\n",
       "      <th>pax_terminal_scheduled_UK</th>\n",
       "      <th>pax_terminal_scheduled_foreign_EU</th>\n",
       "      <th>pax_terminal_scheduled_foreign_non_EU</th>\n",
       "      <th>pax_terminal_charter_UK</th>\n",
       "      <th>pax_terminal_charter_foreign_EU</th>\n",
       "      <th>pax_terminal_charter_foreign_non_EU</th>\n",
       "    </tr>\n",
       "  </thead>\n",
       "  <tbody>\n",
       "    <tr>\n",
       "      <td>0</td>\n",
       "      <td>Other UK Airports</td>\n",
       "      <td>BELFAST INTERNATIONAL</td>\n",
       "      <td>405935</td>\n",
       "      <td>317825</td>\n",
       "      <td>78763</td>\n",
       "      <td>0</td>\n",
       "      <td>9052</td>\n",
       "      <td>295</td>\n",
       "      <td>0</td>\n",
       "    </tr>\n",
       "    <tr>\n",
       "      <td>1</td>\n",
       "      <td>Other UK Airports</td>\n",
       "      <td>BIRMINGHAM</td>\n",
       "      <td>781258</td>\n",
       "      <td>263931</td>\n",
       "      <td>336264</td>\n",
       "      <td>121819</td>\n",
       "      <td>56985</td>\n",
       "      <td>2208</td>\n",
       "      <td>0</td>\n",
       "    </tr>\n",
       "    <tr>\n",
       "      <td>2</td>\n",
       "      <td>Other UK Airports</td>\n",
       "      <td>BRISTOL</td>\n",
       "      <td>520854</td>\n",
       "      <td>328895</td>\n",
       "      <td>150611</td>\n",
       "      <td>0</td>\n",
       "      <td>35378</td>\n",
       "      <td>5543</td>\n",
       "      <td>0</td>\n",
       "    </tr>\n",
       "    <tr>\n",
       "      <td>3</td>\n",
       "      <td>Other UK Airports</td>\n",
       "      <td>EDINBURGH</td>\n",
       "      <td>920098</td>\n",
       "      <td>509602</td>\n",
       "      <td>347991</td>\n",
       "      <td>47818</td>\n",
       "      <td>12833</td>\n",
       "      <td>1237</td>\n",
       "      <td>0</td>\n",
       "    </tr>\n",
       "    <tr>\n",
       "      <td>4</td>\n",
       "      <td>London Area Airports</td>\n",
       "      <td>GATWICK</td>\n",
       "      <td>2953515</td>\n",
       "      <td>1982446</td>\n",
       "      <td>531007</td>\n",
       "      <td>276756</td>\n",
       "      <td>155688</td>\n",
       "      <td>7425</td>\n",
       "      <td>193</td>\n",
       "    </tr>\n",
       "    <tr>\n",
       "      <td>5</td>\n",
       "      <td>Other UK Airports</td>\n",
       "      <td>GLASGOW</td>\n",
       "      <td>526761</td>\n",
       "      <td>382025</td>\n",
       "      <td>85209</td>\n",
       "      <td>44823</td>\n",
       "      <td>13957</td>\n",
       "      <td>0</td>\n",
       "      <td>0</td>\n",
       "    </tr>\n",
       "    <tr>\n",
       "      <td>6</td>\n",
       "      <td>London Area Airports</td>\n",
       "      <td>HEATHROW</td>\n",
       "      <td>5928655</td>\n",
       "      <td>2995384</td>\n",
       "      <td>847634</td>\n",
       "      <td>2083058</td>\n",
       "      <td>662</td>\n",
       "      <td>487</td>\n",
       "      <td>0</td>\n",
       "    </tr>\n",
       "    <tr>\n",
       "      <td>7</td>\n",
       "      <td>London Area Airports</td>\n",
       "      <td>LUTON</td>\n",
       "      <td>1156359</td>\n",
       "      <td>610775</td>\n",
       "      <td>534278</td>\n",
       "      <td>3131</td>\n",
       "      <td>6891</td>\n",
       "      <td>1284</td>\n",
       "      <td>0</td>\n",
       "    </tr>\n",
       "    <tr>\n",
       "      <td>8</td>\n",
       "      <td>Other UK Airports</td>\n",
       "      <td>MANCHESTER</td>\n",
       "      <td>1784815</td>\n",
       "      <td>771325</td>\n",
       "      <td>572137</td>\n",
       "      <td>317952</td>\n",
       "      <td>116944</td>\n",
       "      <td>3441</td>\n",
       "      <td>845</td>\n",
       "    </tr>\n",
       "    <tr>\n",
       "      <td>9</td>\n",
       "      <td>London Area Airports</td>\n",
       "      <td>STANSTED</td>\n",
       "      <td>1930066</td>\n",
       "      <td>234498</td>\n",
       "      <td>1603440</td>\n",
       "      <td>75731</td>\n",
       "      <td>15746</td>\n",
       "      <td>651</td>\n",
       "      <td>0</td>\n",
       "    </tr>\n",
       "  </tbody>\n",
       "</table>\n",
       "</div>"
      ],
      "text/plain": [
       "  reporting_airport_group_name reporting_airport_name  total_pax  \\\n",
       "0            Other UK Airports  BELFAST INTERNATIONAL     405935   \n",
       "1            Other UK Airports             BIRMINGHAM     781258   \n",
       "2            Other UK Airports                BRISTOL     520854   \n",
       "3            Other UK Airports              EDINBURGH     920098   \n",
       "4         London Area Airports                GATWICK    2953515   \n",
       "5            Other UK Airports                GLASGOW     526761   \n",
       "6         London Area Airports               HEATHROW    5928655   \n",
       "7         London Area Airports                  LUTON    1156359   \n",
       "8            Other UK Airports             MANCHESTER    1784815   \n",
       "9         London Area Airports               STANSTED    1930066   \n",
       "\n",
       "   pax_terminal_scheduled_UK  pax_terminal_scheduled_foreign_EU  \\\n",
       "0                     317825                              78763   \n",
       "1                     263931                             336264   \n",
       "2                     328895                             150611   \n",
       "3                     509602                             347991   \n",
       "4                    1982446                             531007   \n",
       "5                     382025                              85209   \n",
       "6                    2995384                             847634   \n",
       "7                     610775                             534278   \n",
       "8                     771325                             572137   \n",
       "9                     234498                            1603440   \n",
       "\n",
       "   pax_terminal_scheduled_foreign_non_EU  pax_terminal_charter_UK  \\\n",
       "0                                      0                     9052   \n",
       "1                                 121819                    56985   \n",
       "2                                      0                    35378   \n",
       "3                                  47818                    12833   \n",
       "4                                 276756                   155688   \n",
       "5                                  44823                    13957   \n",
       "6                                2083058                      662   \n",
       "7                                   3131                     6891   \n",
       "8                                 317952                   116944   \n",
       "9                                  75731                    15746   \n",
       "\n",
       "   pax_terminal_charter_foreign_EU  pax_terminal_charter_foreign_non_EU  \n",
       "0                              295                                    0  \n",
       "1                             2208                                    0  \n",
       "2                             5543                                    0  \n",
       "3                             1237                                    0  \n",
       "4                             7425                                  193  \n",
       "5                                0                                    0  \n",
       "6                              487                                    0  \n",
       "7                             1284                                    0  \n",
       "8                             3441                                  845  \n",
       "9                              651                                    0  "
      ]
     },
     "execution_count": 70,
     "metadata": {},
     "output_type": "execute_result"
    }
   ],
   "source": [
    "data = data.drop([\"rundate\",\"reporting_period\", \"pax_transit_scheduled_UK\", \"pax_transit_scheduled_foreign_EU\",\"pax_transit_scheduled_foreign_non_EU\", \"pax_transit_charter_UK\", \"pax_transit_charter_foreign_EU\",\"pax_transit_charter_foreign_non_EU\"], axis=1)\n",
    "data"
   ]
  },
  {
   "cell_type": "code",
   "execution_count": 101,
   "metadata": {},
   "outputs": [
    {
     "name": "stdout",
     "output_type": "stream",
     "text": [
      "Index(['rundate', 'reporting_period', 'reporting_airport_group_name',\n",
      "       'airport', 'total_pax', 'Scheduled UK pax', 'pax_transit_scheduled_UK',\n",
      "       'Scheduled EU pax', 'pax_transit_scheduled_foreign_EU',\n",
      "       'Scheduled NON-EU pax', 'pax_transit_scheduled_foreign_non_EU',\n",
      "       'Charter UK pax', 'pax_transit_charter_UK', 'Charter EU pax',\n",
      "       'pax_transit_charter_foreign_EU', 'Charter NON-EU pax',\n",
      "       'pax_transit_charter_foreign_non_EU'],\n",
      "      dtype='object')\n"
     ]
    }
   ],
   "source": [
    "#Changing columns name\n",
    "data.rename(columns={'reporting_airport_name':'airport', 'pax_terminal_scheduled_UK':'Scheduled UK pax', 'pax_terminal_scheduled_foreign_EU':'Scheduled EU pax',\n",
    "       'pax_terminal_charter_UK':'Charter UK pax',\n",
    "        'pax_terminal_charter_foreign_EU':'Charter EU pax',\n",
    "       'pax_terminal_charter_foreign_non_EU': 'Charter NON-EU pax','pax_terminal_scheduled_foreign_non_EU':'Scheduled NON-EU pax'}, inplace=True)\n",
    "print(data.columns)\n",
    "data.dropna(inplace = True) \n",
    "\n",
    "\n"
   ]
  },
  {
   "cell_type": "code",
   "execution_count": 102,
   "metadata": {},
   "outputs": [
    {
     "data": {
      "text/html": [
       "<div>\n",
       "<style scoped>\n",
       "    .dataframe tbody tr th:only-of-type {\n",
       "        vertical-align: middle;\n",
       "    }\n",
       "\n",
       "    .dataframe tbody tr th {\n",
       "        vertical-align: top;\n",
       "    }\n",
       "\n",
       "    .dataframe thead th {\n",
       "        text-align: right;\n",
       "    }\n",
       "</style>\n",
       "<table border=\"1\" class=\"dataframe\">\n",
       "  <thead>\n",
       "    <tr style=\"text-align: right;\">\n",
       "      <th></th>\n",
       "      <th>rundate</th>\n",
       "      <th>reporting_period</th>\n",
       "      <th>reporting_airport_group_name</th>\n",
       "      <th>airport</th>\n",
       "      <th>total_pax</th>\n",
       "      <th>Scheduled UK pax</th>\n",
       "      <th>pax_transit_scheduled_UK</th>\n",
       "      <th>Scheduled EU pax</th>\n",
       "      <th>pax_transit_scheduled_foreign_EU</th>\n",
       "      <th>Scheduled NON-EU pax</th>\n",
       "      <th>pax_transit_scheduled_foreign_non_EU</th>\n",
       "      <th>Charter UK pax</th>\n",
       "      <th>pax_transit_charter_UK</th>\n",
       "      <th>Charter EU pax</th>\n",
       "      <th>pax_transit_charter_foreign_EU</th>\n",
       "      <th>Charter NON-EU pax</th>\n",
       "      <th>pax_transit_charter_foreign_non_EU</th>\n",
       "    </tr>\n",
       "  </thead>\n",
       "  <tbody>\n",
       "    <tr>\n",
       "      <td>0</td>\n",
       "      <td>12/03/2019 14:40</td>\n",
       "      <td>12/04/2019 14:40</td>\n",
       "      <td>Other UK Airports</td>\n",
       "      <td>BELFAST INTERNATIONAL</td>\n",
       "      <td>405935</td>\n",
       "      <td>317825</td>\n",
       "      <td>0</td>\n",
       "      <td>78763</td>\n",
       "      <td>0</td>\n",
       "      <td>0</td>\n",
       "      <td>0</td>\n",
       "      <td>9052</td>\n",
       "      <td>0</td>\n",
       "      <td>295</td>\n",
       "      <td>0</td>\n",
       "      <td>0</td>\n",
       "      <td>0</td>\n",
       "    </tr>\n",
       "    <tr>\n",
       "      <td>1</td>\n",
       "      <td>12/03/2019 14:40</td>\n",
       "      <td>201901</td>\n",
       "      <td>Other UK Airports</td>\n",
       "      <td>BIRMINGHAM</td>\n",
       "      <td>781258</td>\n",
       "      <td>263931</td>\n",
       "      <td>0</td>\n",
       "      <td>336264</td>\n",
       "      <td>0</td>\n",
       "      <td>121819</td>\n",
       "      <td>51</td>\n",
       "      <td>56985</td>\n",
       "      <td>0</td>\n",
       "      <td>2208</td>\n",
       "      <td>0</td>\n",
       "      <td>0</td>\n",
       "      <td>0</td>\n",
       "    </tr>\n",
       "    <tr>\n",
       "      <td>2</td>\n",
       "      <td>12/03/2019 14:40</td>\n",
       "      <td>201901</td>\n",
       "      <td>Other UK Airports</td>\n",
       "      <td>BRISTOL</td>\n",
       "      <td>520854</td>\n",
       "      <td>328895</td>\n",
       "      <td>427</td>\n",
       "      <td>150611</td>\n",
       "      <td>0</td>\n",
       "      <td>0</td>\n",
       "      <td>0</td>\n",
       "      <td>35378</td>\n",
       "      <td>0</td>\n",
       "      <td>5543</td>\n",
       "      <td>0</td>\n",
       "      <td>0</td>\n",
       "      <td>0</td>\n",
       "    </tr>\n",
       "    <tr>\n",
       "      <td>3</td>\n",
       "      <td>12/03/2019 14:40</td>\n",
       "      <td>201901</td>\n",
       "      <td>Other UK Airports</td>\n",
       "      <td>EDINBURGH</td>\n",
       "      <td>920098</td>\n",
       "      <td>509602</td>\n",
       "      <td>391</td>\n",
       "      <td>347991</td>\n",
       "      <td>0</td>\n",
       "      <td>47818</td>\n",
       "      <td>226</td>\n",
       "      <td>12833</td>\n",
       "      <td>0</td>\n",
       "      <td>1237</td>\n",
       "      <td>0</td>\n",
       "      <td>0</td>\n",
       "      <td>0</td>\n",
       "    </tr>\n",
       "    <tr>\n",
       "      <td>4</td>\n",
       "      <td>12/03/2019 14:40</td>\n",
       "      <td>201901</td>\n",
       "      <td>London Area Airports</td>\n",
       "      <td>GATWICK</td>\n",
       "      <td>2953515</td>\n",
       "      <td>1982446</td>\n",
       "      <td>0</td>\n",
       "      <td>531007</td>\n",
       "      <td>0</td>\n",
       "      <td>276756</td>\n",
       "      <td>0</td>\n",
       "      <td>155688</td>\n",
       "      <td>0</td>\n",
       "      <td>7425</td>\n",
       "      <td>0</td>\n",
       "      <td>193</td>\n",
       "      <td>0</td>\n",
       "    </tr>\n",
       "    <tr>\n",
       "      <td>5</td>\n",
       "      <td>12/03/2019 14:40</td>\n",
       "      <td>201901</td>\n",
       "      <td>Other UK Airports</td>\n",
       "      <td>GLASGOW</td>\n",
       "      <td>526761</td>\n",
       "      <td>382025</td>\n",
       "      <td>512</td>\n",
       "      <td>85209</td>\n",
       "      <td>0</td>\n",
       "      <td>44823</td>\n",
       "      <td>235</td>\n",
       "      <td>13957</td>\n",
       "      <td>0</td>\n",
       "      <td>0</td>\n",
       "      <td>0</td>\n",
       "      <td>0</td>\n",
       "      <td>0</td>\n",
       "    </tr>\n",
       "    <tr>\n",
       "      <td>6</td>\n",
       "      <td>12/03/2019 14:40</td>\n",
       "      <td>201901</td>\n",
       "      <td>London Area Airports</td>\n",
       "      <td>HEATHROW</td>\n",
       "      <td>5928655</td>\n",
       "      <td>2995384</td>\n",
       "      <td>235</td>\n",
       "      <td>847634</td>\n",
       "      <td>602</td>\n",
       "      <td>2083058</td>\n",
       "      <td>593</td>\n",
       "      <td>662</td>\n",
       "      <td>0</td>\n",
       "      <td>487</td>\n",
       "      <td>0</td>\n",
       "      <td>0</td>\n",
       "      <td>0</td>\n",
       "    </tr>\n",
       "    <tr>\n",
       "      <td>7</td>\n",
       "      <td>12/03/2019 14:40</td>\n",
       "      <td>201901</td>\n",
       "      <td>London Area Airports</td>\n",
       "      <td>LUTON</td>\n",
       "      <td>1156359</td>\n",
       "      <td>610775</td>\n",
       "      <td>0</td>\n",
       "      <td>534278</td>\n",
       "      <td>0</td>\n",
       "      <td>3131</td>\n",
       "      <td>0</td>\n",
       "      <td>6891</td>\n",
       "      <td>0</td>\n",
       "      <td>1284</td>\n",
       "      <td>0</td>\n",
       "      <td>0</td>\n",
       "      <td>0</td>\n",
       "    </tr>\n",
       "    <tr>\n",
       "      <td>8</td>\n",
       "      <td>12/03/2019 14:40</td>\n",
       "      <td>201901</td>\n",
       "      <td>Other UK Airports</td>\n",
       "      <td>MANCHESTER</td>\n",
       "      <td>1784815</td>\n",
       "      <td>771325</td>\n",
       "      <td>0</td>\n",
       "      <td>572137</td>\n",
       "      <td>0</td>\n",
       "      <td>317952</td>\n",
       "      <td>1995</td>\n",
       "      <td>116944</td>\n",
       "      <td>0</td>\n",
       "      <td>3441</td>\n",
       "      <td>176</td>\n",
       "      <td>845</td>\n",
       "      <td>0</td>\n",
       "    </tr>\n",
       "    <tr>\n",
       "      <td>9</td>\n",
       "      <td>12/03/2019 14:40</td>\n",
       "      <td>201901</td>\n",
       "      <td>London Area Airports</td>\n",
       "      <td>STANSTED</td>\n",
       "      <td>1930066</td>\n",
       "      <td>234498</td>\n",
       "      <td>0</td>\n",
       "      <td>1603440</td>\n",
       "      <td>0</td>\n",
       "      <td>75731</td>\n",
       "      <td>0</td>\n",
       "      <td>15746</td>\n",
       "      <td>0</td>\n",
       "      <td>651</td>\n",
       "      <td>0</td>\n",
       "      <td>0</td>\n",
       "      <td>0</td>\n",
       "    </tr>\n",
       "  </tbody>\n",
       "</table>\n",
       "</div>"
      ],
      "text/plain": [
       "            rundate  reporting_period reporting_airport_group_name  \\\n",
       "0  12/03/2019 14:40  12/04/2019 14:40            Other UK Airports   \n",
       "1  12/03/2019 14:40            201901            Other UK Airports   \n",
       "2  12/03/2019 14:40            201901            Other UK Airports   \n",
       "3  12/03/2019 14:40            201901            Other UK Airports   \n",
       "4  12/03/2019 14:40            201901         London Area Airports   \n",
       "5  12/03/2019 14:40            201901            Other UK Airports   \n",
       "6  12/03/2019 14:40            201901         London Area Airports   \n",
       "7  12/03/2019 14:40            201901         London Area Airports   \n",
       "8  12/03/2019 14:40            201901            Other UK Airports   \n",
       "9  12/03/2019 14:40            201901         London Area Airports   \n",
       "\n",
       "                 airport  total_pax  Scheduled UK pax  \\\n",
       "0  BELFAST INTERNATIONAL     405935            317825   \n",
       "1             BIRMINGHAM     781258            263931   \n",
       "2                BRISTOL     520854            328895   \n",
       "3              EDINBURGH     920098            509602   \n",
       "4                GATWICK    2953515           1982446   \n",
       "5                GLASGOW     526761            382025   \n",
       "6               HEATHROW    5928655           2995384   \n",
       "7                  LUTON    1156359            610775   \n",
       "8             MANCHESTER    1784815            771325   \n",
       "9               STANSTED    1930066            234498   \n",
       "\n",
       "   pax_transit_scheduled_UK  Scheduled EU pax  \\\n",
       "0                         0             78763   \n",
       "1                         0            336264   \n",
       "2                       427            150611   \n",
       "3                       391            347991   \n",
       "4                         0            531007   \n",
       "5                       512             85209   \n",
       "6                       235            847634   \n",
       "7                         0            534278   \n",
       "8                         0            572137   \n",
       "9                         0           1603440   \n",
       "\n",
       "   pax_transit_scheduled_foreign_EU  Scheduled NON-EU pax  \\\n",
       "0                                 0                     0   \n",
       "1                                 0                121819   \n",
       "2                                 0                     0   \n",
       "3                                 0                 47818   \n",
       "4                                 0                276756   \n",
       "5                                 0                 44823   \n",
       "6                               602               2083058   \n",
       "7                                 0                  3131   \n",
       "8                                 0                317952   \n",
       "9                                 0                 75731   \n",
       "\n",
       "   pax_transit_scheduled_foreign_non_EU  Charter UK pax  \\\n",
       "0                                     0            9052   \n",
       "1                                    51           56985   \n",
       "2                                     0           35378   \n",
       "3                                   226           12833   \n",
       "4                                     0          155688   \n",
       "5                                   235           13957   \n",
       "6                                   593             662   \n",
       "7                                     0            6891   \n",
       "8                                  1995          116944   \n",
       "9                                     0           15746   \n",
       "\n",
       "   pax_transit_charter_UK  Charter EU pax  pax_transit_charter_foreign_EU  \\\n",
       "0                       0             295                               0   \n",
       "1                       0            2208                               0   \n",
       "2                       0            5543                               0   \n",
       "3                       0            1237                               0   \n",
       "4                       0            7425                               0   \n",
       "5                       0               0                               0   \n",
       "6                       0             487                               0   \n",
       "7                       0            1284                               0   \n",
       "8                       0            3441                             176   \n",
       "9                       0             651                               0   \n",
       "\n",
       "   Charter NON-EU pax  pax_transit_charter_foreign_non_EU  \n",
       "0                   0                                   0  \n",
       "1                   0                                   0  \n",
       "2                   0                                   0  \n",
       "3                   0                                   0  \n",
       "4                 193                                   0  \n",
       "5                   0                                   0  \n",
       "6                   0                                   0  \n",
       "7                   0                                   0  \n",
       "8                 845                                   0  \n",
       "9                   0                                   0  "
      ]
     },
     "execution_count": 102,
     "metadata": {},
     "output_type": "execute_result"
    }
   ],
   "source": [
    "data"
   ]
  },
  {
   "cell_type": "code",
   "execution_count": 42,
   "metadata": {},
   "outputs": [],
   "source": [
    "data['airport'] = data['airport'].astype('category')\n"
   ]
  },
  {
   "cell_type": "code",
   "execution_count": 43,
   "metadata": {},
   "outputs": [
    {
     "data": {
      "text/plain": [
       "<matplotlib.axes._subplots.AxesSubplot at 0x7ff1561422e8>"
      ]
     },
     "execution_count": 43,
     "metadata": {},
     "output_type": "execute_result"
    },
    {
     "data": {
      "image/png": "[encoded data removed]",
      "text/plain": [
       "<Figure size 432x288 with 1 Axes>"
      ]
     },
     "metadata": {
      "needs_background": "light"
     },
     "output_type": "display_data"
    }
   ],
   "source": [
    "data.plot.bar(x='airport',y='total_pax')"
   ]
  },
  {
   "cell_type": "code",
   "execution_count": 10,
   "metadata": {},
   "outputs": [
    {
     "data": {
      "text/plain": [
       "<bound method PlotAccessor.bar of <pandas.plotting._core.PlotAccessor object at 0x7fae5e7755f8>>"
      ]
     },
     "execution_count": 10,
     "metadata": {},
     "output_type": "execute_result"
    }
   ],
   "source": [
    "\n"
   ]
  },
  {
   "cell_type": "code",
   "execution_count": 44,
   "metadata": {},
   "outputs": [
    {
     "data": {
      "text/plain": [
       "<matplotlib.axes._subplots.AxesSubplot at 0x7ff156125978>"
      ]
     },
     "execution_count": 44,
     "metadata": {},
     "output_type": "execute_result"
    },
    {
     "data": {
      "image/png": "[encoded data removed]",
      "text/plain": [
       "<Figure size 432x288 with 1 Axes>"
      ]
     },
     "metadata": {
      "needs_background": "light"
     },
     "output_type": "display_data"
    }
   ],
   "source": [
    "# a scatter plot comparing num_children and num_pets\n",
    "data.plot(kind='barh',x='airport',y='total_pax', title='Total passengers per airport')"
   ]
  },
  {
   "cell_type": "code",
   "execution_count": 45,
   "metadata": {},
   "outputs": [
    {
     "data": {
      "text/plain": [
       "<matplotlib.axes._subplots.AxesSubplot at 0x7ff1560ad978>"
      ]
     },
     "execution_count": 45,
     "metadata": {},
     "output_type": "execute_result"
    },
    {
     "data": {
      "image/png": "[encoded data removed]",
      "text/plain": [
       "<Figure size 432x288 with 1 Axes>"
      ]
     },
     "metadata": {
      "needs_background": "light"
     },
     "output_type": "display_data"
    }
   ],
   "source": [
    "data['total_pax'].value_counts()[:20].plot(kind='barh')\n"
   ]
  },
  {
   "cell_type": "code",
   "execution_count": 8,
   "metadata": {},
   "outputs": [],
   "source": [
    "data['airport'] = data['airport'].astype('category')\n",
    "data['reporting_airport_group_name'] = data['reporting_airport_group_name'].astype('category')"
   ]
  },
  {
   "cell_type": "code",
   "execution_count": 9,
   "metadata": {},
   "outputs": [
    {
     "data": {
      "text/plain": [
       "<matplotlib.axes._subplots.AxesSubplot at 0x7ff15afc3cc0>"
      ]
     },
     "execution_count": 9,
     "metadata": {},
     "output_type": "execute_result"
    },
    {
     "data": {
      "image/png": "[encoded data removed]",
      "text/plain": [
       "<Figure size 432x288 with 1 Axes>"
      ]
     },
     "metadata": {
      "needs_background": "light"
     },
     "output_type": "display_data"
    }
   ],
   "source": [
    "data.plot(x='airport', y='Scheduled UK pax')\n"
   ]
  },
  {
   "cell_type": "code",
   "execution_count": 10,
   "metadata": {},
   "outputs": [
    {
     "data": {
      "text/plain": [
       "Other UK Airports       6\n",
       "London Area Airports    4\n",
       "Name: reporting_airport_group_name, dtype: int64"
      ]
     },
     "execution_count": 10,
     "metadata": {},
     "output_type": "execute_result"
    }
   ],
   "source": [
    "# Automatically sorts by frequency.\n",
    "counts = data['reporting_airport_group_name'].value_counts()\n",
    "counts"
   ]
  },
  {
   "cell_type": "code",
   "execution_count": 12,
   "metadata": {},
   "outputs": [
    {
     "data": {
      "text/plain": [
       "Text(0, 0.5, 'Airports')"
      ]
     },
     "execution_count": 12,
     "metadata": {},
     "output_type": "execute_result"
    },
    {
     "data": {
      "image/png": "[encoded data removed]",
      "text/plain": [
       "<Figure size 432x288 with 1 Axes>"
      ]
     },
     "metadata": {
      "needs_background": "light"
     },
     "output_type": "display_data"
    }
   ],
   "source": [
    "#vis of reporting_airport_group_name variable\n",
    "counts = data['reporting_airport_group_name'].value_counts()\n",
    "ax = counts.plot.barh()\n",
    "ax.invert_yaxis() # Most popular at the top.\n",
    "ax.set_title('U.K. airports')\n",
    "ax.set_xlabel('Number')\n",
    "ax.set_ylabel('Airports')\n"
   ]
  },
  {
   "cell_type": "code",
   "execution_count": 14,
   "metadata": {
    "scrolled": true
   },
   "outputs": [
    {
     "data": {
      "text/html": [
       "<div>\n",
       "<style scoped>\n",
       "    .dataframe tbody tr th:only-of-type {\n",
       "        vertical-align: middle;\n",
       "    }\n",
       "\n",
       "    .dataframe tbody tr th {\n",
       "        vertical-align: top;\n",
       "    }\n",
       "\n",
       "    .dataframe thead th {\n",
       "        text-align: right;\n",
       "    }\n",
       "</style>\n",
       "<table border=\"1\" class=\"dataframe\">\n",
       "  <thead>\n",
       "    <tr style=\"text-align: right;\">\n",
       "      <th></th>\n",
       "      <th>reporting_airport_group_name</th>\n",
       "      <th>airport</th>\n",
       "      <th>total_pax</th>\n",
       "      <th>Scheduled UK pax</th>\n",
       "      <th>Scheduled EU pax</th>\n",
       "      <th>Scheduled NON-EU pax</th>\n",
       "      <th>Charter UK pax</th>\n",
       "      <th>Charter EU pax</th>\n",
       "      <th>Charter NON-EU pax</th>\n",
       "    </tr>\n",
       "  </thead>\n",
       "  <tbody>\n",
       "    <tr>\n",
       "      <td>0</td>\n",
       "      <td>Other UK Airports</td>\n",
       "      <td>BELFAST INTERNATIONAL</td>\n",
       "      <td>405935</td>\n",
       "      <td>317825</td>\n",
       "      <td>78763</td>\n",
       "      <td>0</td>\n",
       "      <td>9052</td>\n",
       "      <td>295</td>\n",
       "      <td>0</td>\n",
       "    </tr>\n",
       "    <tr>\n",
       "      <td>1</td>\n",
       "      <td>Other UK Airports</td>\n",
       "      <td>BIRMINGHAM</td>\n",
       "      <td>781258</td>\n",
       "      <td>263931</td>\n",
       "      <td>336264</td>\n",
       "      <td>121819</td>\n",
       "      <td>56985</td>\n",
       "      <td>2208</td>\n",
       "      <td>0</td>\n",
       "    </tr>\n",
       "    <tr>\n",
       "      <td>2</td>\n",
       "      <td>Other UK Airports</td>\n",
       "      <td>BRISTOL</td>\n",
       "      <td>520854</td>\n",
       "      <td>328895</td>\n",
       "      <td>150611</td>\n",
       "      <td>0</td>\n",
       "      <td>35378</td>\n",
       "      <td>5543</td>\n",
       "      <td>0</td>\n",
       "    </tr>\n",
       "    <tr>\n",
       "      <td>3</td>\n",
       "      <td>Other UK Airports</td>\n",
       "      <td>EDINBURGH</td>\n",
       "      <td>920098</td>\n",
       "      <td>509602</td>\n",
       "      <td>347991</td>\n",
       "      <td>47818</td>\n",
       "      <td>12833</td>\n",
       "      <td>1237</td>\n",
       "      <td>0</td>\n",
       "    </tr>\n",
       "    <tr>\n",
       "      <td>4</td>\n",
       "      <td>London Area Airports</td>\n",
       "      <td>GATWICK</td>\n",
       "      <td>2953515</td>\n",
       "      <td>1982446</td>\n",
       "      <td>531007</td>\n",
       "      <td>276756</td>\n",
       "      <td>155688</td>\n",
       "      <td>7425</td>\n",
       "      <td>193</td>\n",
       "    </tr>\n",
       "  </tbody>\n",
       "</table>\n",
       "</div>"
      ],
      "text/plain": [
       "  reporting_airport_group_name                airport  total_pax  \\\n",
       "0            Other UK Airports  BELFAST INTERNATIONAL     405935   \n",
       "1            Other UK Airports             BIRMINGHAM     781258   \n",
       "2            Other UK Airports                BRISTOL     520854   \n",
       "3            Other UK Airports              EDINBURGH     920098   \n",
       "4         London Area Airports                GATWICK    2953515   \n",
       "\n",
       "   Scheduled UK pax  Scheduled EU pax  Scheduled NON-EU pax  Charter UK pax  \\\n",
       "0            317825             78763                     0            9052   \n",
       "1            263931            336264                121819           56985   \n",
       "2            328895            150611                     0           35378   \n",
       "3            509602            347991                 47818           12833   \n",
       "4           1982446            531007                276756          155688   \n",
       "\n",
       "   Charter EU pax  Charter NON-EU pax  \n",
       "0             295                   0  \n",
       "1            2208                   0  \n",
       "2            5543                   0  \n",
       "3            1237                   0  \n",
       "4            7425                 193  "
      ]
     },
     "execution_count": 14,
     "metadata": {},
     "output_type": "execute_result"
    }
   ],
   "source": [
    "data.head()"
   ]
  },
  {
   "cell_type": "code",
   "execution_count": 13,
   "metadata": {
    "scrolled": true
   },
   "outputs": [
    {
     "name": "stdout",
     "output_type": "stream",
     "text": [
      "  reporting_airport_group_name     airport  total_pax  Scheduled UK pax  \\\n",
      "6         London Area Airports    HEATHROW    5928655           2995384   \n",
      "4         London Area Airports     GATWICK    2953515           1982446   \n",
      "9         London Area Airports    STANSTED    1930066            234498   \n",
      "8            Other UK Airports  MANCHESTER    1784815            771325   \n",
      "7         London Area Airports       LUTON    1156359            610775   \n",
      "\n",
      "   Scheduled EU pax  Scheduled NON-EU pax  Charter UK pax  Charter EU pax  \\\n",
      "6            847634               2083058             662             487   \n",
      "4            531007                276756          155688            7425   \n",
      "9           1603440                 75731           15746             651   \n",
      "8            572137                317952          116944            3441   \n",
      "7            534278                  3131            6891            1284   \n",
      "\n",
      "   Charter NON-EU pax  \n",
      "6                   0  \n",
      "4                 193  \n",
      "9                   0  \n",
      "8                 845  \n",
      "7                   0  \n"
     ]
    }
   ],
   "source": [
    "# sort Brand - ascending order\n",
    "data.sort_values(by=['total_pax'], inplace=True, ascending=False)\n",
    "\n",
    "print (data.head())\n"
   ]
  },
  {
   "cell_type": "code",
   "execution_count": 14,
   "metadata": {},
   "outputs": [
    {
     "data": {
      "text/plain": [
       "<matplotlib.axes._subplots.AxesSubplot at 0x7ff1571942b0>"
      ]
     },
     "execution_count": 14,
     "metadata": {},
     "output_type": "execute_result"
    },
    {
     "data": {
      "image/png": "[encoded data removed]",
      "text/plain": [
       "<Figure size 432x288 with 1 Axes>"
      ]
     },
     "metadata": {
      "needs_background": "light"
     },
     "output_type": "display_data"
    }
   ],
   "source": [
    "data[1:2]\n",
    "data.plot()"
   ]
  },
  {
   "cell_type": "code",
   "execution_count": 296,
   "metadata": {
    "collapsed": true
   },
   "outputs": [
    {
     "ename": "TypeError",
     "evalue": "no numeric data to plot",
     "output_type": "error",
     "traceback": [
      "\u001b[0;31m---------------------------------------------------------------------------\u001b[0m",
      "\u001b[0;31mTypeError\u001b[0m                                 Traceback (most recent call last)",
      "\u001b[0;32m<ipython-input-296-07f63339cd78>\u001b[0m in \u001b[0;36m<module>\u001b[0;34m\u001b[0m\n\u001b[1;32m      1\u001b[0m \u001b[0;32mimport\u001b[0m \u001b[0mmatplotlib\u001b[0m\u001b[0;34m.\u001b[0m\u001b[0mpyplot\u001b[0m \u001b[0;32mas\u001b[0m \u001b[0mplt\u001b[0m\u001b[0;34m\u001b[0m\u001b[0m\n\u001b[1;32m      2\u001b[0m \u001b[0mplt\u001b[0m\u001b[0;34m.\u001b[0m\u001b[0mfigure\u001b[0m\u001b[0;34m(\u001b[0m\u001b[0;34m)\u001b[0m\u001b[0;34m;\u001b[0m\u001b[0;34m\u001b[0m\u001b[0m\n\u001b[0;32m----> 3\u001b[0;31m \u001b[0mdata\u001b[0m\u001b[0;34m.\u001b[0m\u001b[0miloc\u001b[0m\u001b[0;34m[\u001b[0m\u001b[0;36m2\u001b[0m\u001b[0;34m]\u001b[0m\u001b[0;34m.\u001b[0m\u001b[0mplot\u001b[0m\u001b[0;34m(\u001b[0m\u001b[0mkind\u001b[0m\u001b[0;34m=\u001b[0m\u001b[0;34m'bar'\u001b[0m\u001b[0;34m)\u001b[0m\u001b[0;34m;\u001b[0m\u001b[0;34m\u001b[0m\u001b[0m\n\u001b[0m",
      "\u001b[0;32m/opt/rh/rh-python36/root/usr/lib64/python3.6/site-packages/pandas/plotting/_core.py\u001b[0m in \u001b[0;36m__call__\u001b[0;34m(self, *args, **kwargs)\u001b[0m\n\u001b[1;32m    792\u001b[0m                     \u001b[0mdata\u001b[0m\u001b[0;34m.\u001b[0m\u001b[0mcolumns\u001b[0m \u001b[0;34m=\u001b[0m \u001b[0mlabel_name\u001b[0m\u001b[0;34m\u001b[0m\u001b[0m\n\u001b[1;32m    793\u001b[0m \u001b[0;34m\u001b[0m\u001b[0m\n\u001b[0;32m--> 794\u001b[0;31m         \u001b[0;32mreturn\u001b[0m \u001b[0mplot_backend\u001b[0m\u001b[0;34m.\u001b[0m\u001b[0mplot\u001b[0m\u001b[0;34m(\u001b[0m\u001b[0mdata\u001b[0m\u001b[0;34m,\u001b[0m \u001b[0mkind\u001b[0m\u001b[0;34m=\u001b[0m\u001b[0mkind\u001b[0m\u001b[0;34m,\u001b[0m \u001b[0;34m**\u001b[0m\u001b[0mkwargs\u001b[0m\u001b[0;34m)\u001b[0m\u001b[0;34m\u001b[0m\u001b[0m\n\u001b[0m\u001b[1;32m    795\u001b[0m \u001b[0;34m\u001b[0m\u001b[0m\n\u001b[1;32m    796\u001b[0m     \u001b[0;32mdef\u001b[0m \u001b[0mline\u001b[0m\u001b[0;34m(\u001b[0m\u001b[0mself\u001b[0m\u001b[0;34m,\u001b[0m \u001b[0mx\u001b[0m\u001b[0;34m=\u001b[0m\u001b[0;32mNone\u001b[0m\u001b[0;34m,\u001b[0m \u001b[0my\u001b[0m\u001b[0;34m=\u001b[0m\u001b[0;32mNone\u001b[0m\u001b[0;34m,\u001b[0m \u001b[0;34m**\u001b[0m\u001b[0mkwargs\u001b[0m\u001b[0;34m)\u001b[0m\u001b[0;34m:\u001b[0m\u001b[0;34m\u001b[0m\u001b[0m\n",
      "\u001b[0;32m/opt/rh/rh-python36/root/usr/lib64/python3.6/site-packages/pandas/plotting/_matplotlib/__init__.py\u001b[0m in \u001b[0;36mplot\u001b[0;34m(data, kind, **kwargs)\u001b[0m\n\u001b[1;32m     60\u001b[0m             \u001b[0mkwargs\u001b[0m\u001b[0;34m[\u001b[0m\u001b[0;34m\"ax\"\u001b[0m\u001b[0;34m]\u001b[0m \u001b[0;34m=\u001b[0m \u001b[0mgetattr\u001b[0m\u001b[0;34m(\u001b[0m\u001b[0max\u001b[0m\u001b[0;34m,\u001b[0m \u001b[0;34m\"left_ax\"\u001b[0m\u001b[0;34m,\u001b[0m \u001b[0max\u001b[0m\u001b[0;34m)\u001b[0m\u001b[0;34m\u001b[0m\u001b[0m\n\u001b[1;32m     61\u001b[0m     \u001b[0mplot_obj\u001b[0m \u001b[0;34m=\u001b[0m \u001b[0mPLOT_CLASSES\u001b[0m\u001b[0;34m[\u001b[0m\u001b[0mkind\u001b[0m\u001b[0;34m]\u001b[0m\u001b[0;34m(\u001b[0m\u001b[0mdata\u001b[0m\u001b[0;34m,\u001b[0m \u001b[0;34m**\u001b[0m\u001b[0mkwargs\u001b[0m\u001b[0;34m)\u001b[0m\u001b[0;34m\u001b[0m\u001b[0m\n\u001b[0;32m---> 62\u001b[0;31m     \u001b[0mplot_obj\u001b[0m\u001b[0;34m.\u001b[0m\u001b[0mgenerate\u001b[0m\u001b[0;34m(\u001b[0m\u001b[0;34m)\u001b[0m\u001b[0;34m\u001b[0m\u001b[0m\n\u001b[0m\u001b[1;32m     63\u001b[0m     \u001b[0mplot_obj\u001b[0m\u001b[0;34m.\u001b[0m\u001b[0mdraw\u001b[0m\u001b[0;34m(\u001b[0m\u001b[0;34m)\u001b[0m\u001b[0;34m\u001b[0m\u001b[0m\n\u001b[1;32m     64\u001b[0m     \u001b[0;32mreturn\u001b[0m \u001b[0mplot_obj\u001b[0m\u001b[0;34m.\u001b[0m\u001b[0mresult\u001b[0m\u001b[0;34m\u001b[0m\u001b[0m\n",
      "\u001b[0;32m/opt/rh/rh-python36/root/usr/lib64/python3.6/site-packages/pandas/plotting/_matplotlib/core.py\u001b[0m in \u001b[0;36mgenerate\u001b[0;34m(self)\u001b[0m\n\u001b[1;32m    277\u001b[0m     \u001b[0;32mdef\u001b[0m \u001b[0mgenerate\u001b[0m\u001b[0;34m(\u001b[0m\u001b[0mself\u001b[0m\u001b[0;34m)\u001b[0m\u001b[0;34m:\u001b[0m\u001b[0;34m\u001b[0m\u001b[0m\n\u001b[1;32m    278\u001b[0m         \u001b[0mself\u001b[0m\u001b[0;34m.\u001b[0m\u001b[0m_args_adjust\u001b[0m\u001b[0;34m(\u001b[0m\u001b[0;34m)\u001b[0m\u001b[0;34m\u001b[0m\u001b[0m\n\u001b[0;32m--> 279\u001b[0;31m         \u001b[0mself\u001b[0m\u001b[0;34m.\u001b[0m\u001b[0m_compute_plot_data\u001b[0m\u001b[0;34m(\u001b[0m\u001b[0;34m)\u001b[0m\u001b[0;34m\u001b[0m\u001b[0m\n\u001b[0m\u001b[1;32m    280\u001b[0m         \u001b[0mself\u001b[0m\u001b[0;34m.\u001b[0m\u001b[0m_setup_subplots\u001b[0m\u001b[0;34m(\u001b[0m\u001b[0;34m)\u001b[0m\u001b[0;34m\u001b[0m\u001b[0m\n\u001b[1;32m    281\u001b[0m         \u001b[0mself\u001b[0m\u001b[0;34m.\u001b[0m\u001b[0m_make_plot\u001b[0m\u001b[0;34m(\u001b[0m\u001b[0;34m)\u001b[0m\u001b[0;34m\u001b[0m\u001b[0m\n",
      "\u001b[0;32m/opt/rh/rh-python36/root/usr/lib64/python3.6/site-packages/pandas/plotting/_matplotlib/core.py\u001b[0m in \u001b[0;36m_compute_plot_data\u001b[0;34m(self)\u001b[0m\n\u001b[1;32m    412\u001b[0m         \u001b[0;31m# no non-numeric frames or series allowed\u001b[0m\u001b[0;34m\u001b[0m\u001b[0;34m\u001b[0m\u001b[0m\n\u001b[1;32m    413\u001b[0m         \u001b[0;32mif\u001b[0m \u001b[0mis_empty\u001b[0m\u001b[0;34m:\u001b[0m\u001b[0;34m\u001b[0m\u001b[0m\n\u001b[0;32m--> 414\u001b[0;31m             \u001b[0;32mraise\u001b[0m \u001b[0mTypeError\u001b[0m\u001b[0;34m(\u001b[0m\u001b[0;34m\"no numeric data to plot\"\u001b[0m\u001b[0;34m)\u001b[0m\u001b[0;34m\u001b[0m\u001b[0m\n\u001b[0m\u001b[1;32m    415\u001b[0m \u001b[0;34m\u001b[0m\u001b[0m\n\u001b[1;32m    416\u001b[0m         \u001b[0;31m# GH25587: cast ExtensionArray of pandas (IntegerArray, etc.) to\u001b[0m\u001b[0;34m\u001b[0m\u001b[0;34m\u001b[0m\u001b[0m\n",
      "\u001b[0;31mTypeError\u001b[0m: no numeric data to plot"
     ]
    },
    {
     "data": {
      "image/png": "[encoded data removed]",
      "text/plain": [
       "<Figure size 432x288 with 1 Axes>"
      ]
     },
     "metadata": {
      "needs_background": "light"
     },
     "output_type": "display_data"
    }
   ],
   "source": []
  },
  {
   "cell_type": "code",
   "execution_count": 301,
   "metadata": {},
   "outputs": [
    {
     "data": {
      "text/plain": [
       "reporting_airport_group_name    category\n",
       "airport                         category\n",
       "total_pax                          int64\n",
       "Scheduled UK pax                   int64\n",
       "Scheduled EU pax                   int64\n",
       "Scheduled NON-EU pax               int64\n",
       "Charter UK pax                     int64\n",
       "Charter EU pax                     int64\n",
       "Charter NON-EU pax                 int64\n",
       "dtype: object"
      ]
     },
     "execution_count": 301,
     "metadata": {},
     "output_type": "execute_result"
    }
   ],
   "source": [
    " data.dtypes"
   ]
  },
  {
   "cell_type": "code",
   "execution_count": 16,
   "metadata": {},
   "outputs": [
    {
     "data": {
      "text/plain": [
       "CategoricalDtype(categories=['London Area Airports', 'Other UK Airports'], ordered=False)"
      ]
     },
     "execution_count": 16,
     "metadata": {},
     "output_type": "execute_result"
    }
   ],
   "source": [
    "data['reporting_airport_group_name'].dtype"
   ]
  },
  {
   "cell_type": "raw",
   "metadata": {},
   "source": [
    "data.describe()\n"
   ]
  },
  {
   "cell_type": "code",
   "execution_count": 320,
   "metadata": {
    "scrolled": true
   },
   "outputs": [],
   "source": [
    "%matplotlib inline"
   ]
  },
  {
   "cell_type": "code",
   "execution_count": 107,
   "metadata": {},
   "outputs": [
    {
     "data": {
      "text/plain": [
       "<matplotlib.axes._subplots.AxesSubplot at 0x7ff14fa2fcc0>"
      ]
     },
     "execution_count": 107,
     "metadata": {},
     "output_type": "execute_result"
    },
    {
     "data": {
      "image/png": "[encoded data removed]",
      "text/plain": [
       "<Figure size 432x288 with 1 Axes>"
      ]
     },
     "metadata": {
      "needs_background": "light"
     },
     "output_type": "display_data"
    }
   ],
   "source": [
    "# a scatter plot comparing num_children and num_pets\n",
    "data.plot(kind='barh',x='airport',y=\"Charter EU pax\")"
   ]
  },
  {
   "cell_type": "code",
   "execution_count": 26,
   "metadata": {},
   "outputs": [
    {
     "data": {
      "text/plain": [
       "<matplotlib.axes._subplots.AxesSubplot at 0x7ff156aa86a0>"
      ]
     },
     "execution_count": 26,
     "metadata": {},
     "output_type": "execute_result"
    },
    {
     "data": {
      "image/png": "[encoded data removed]",
      "text/plain": [
       "<Figure size 432x288 with 1 Axes>"
      ]
     },
     "metadata": {
      "needs_background": "light"
     },
     "output_type": "display_data"
    }
   ],
   "source": [
    "# a scatter plot comparing num_children and num_pets\n",
    "data.plot(kind='barh',x='airport',y=['Charter EU pax', 'Scheduled EU pax'])"
   ]
  },
  {
   "cell_type": "code",
   "execution_count": 108,
   "metadata": {},
   "outputs": [
    {
     "data": {
      "text/plain": [
       "<matplotlib.axes._subplots.AxesSubplot at 0x7ff14f9b0828>"
      ]
     },
     "execution_count": 108,
     "metadata": {},
     "output_type": "execute_result"
    },
    {
     "data": {
      "image/png": "[encoded data removed]",
      "text/plain": [
       "<Figure size 432x288 with 1 Axes>"
      ]
     },
     "metadata": {
      "needs_background": "light"
     },
     "output_type": "display_data"
    }
   ],
   "source": [
    "import matplotlib.pyplot as plt\n",
    "data.plot(x=\"airport\", y=[ \"Charter UK pax\", \"Scheduled UK pax\"], kind=\"bar\", title=\"Charter U.K. pax vs Scheduled U.K. pax\")\n",
    "\n"
   ]
  },
  {
   "cell_type": "code",
   "execution_count": 103,
   "metadata": {},
   "outputs": [
    {
     "data": {
      "text/plain": [
       "<matplotlib.axes._subplots.AxesSubplot at 0x7ff14fc59a58>"
      ]
     },
     "execution_count": 103,
     "metadata": {},
     "output_type": "execute_result"
    },
    {
     "data": {
      "image/png": "[encoded data removed]",
      "text/plain": [
       "<Figure size 432x288 with 1 Axes>"
      ]
     },
     "metadata": {
      "needs_background": "light"
     },
     "output_type": "display_data"
    }
   ],
   "source": [
    "\n",
    "data.plot(x=\"airport\", y=[ \"Charter EU pax\", \"Charter UK pax\", \"Charter NON-EU pax\"], kind=\"bar\")\n",
    "\n"
   ]
  },
  {
   "cell_type": "code",
   "execution_count": 30,
   "metadata": {},
   "outputs": [
    {
     "data": {
      "text/plain": [
       "<matplotlib.axes._subplots.AxesSubplot at 0x7fd60518da90>"
      ]
     },
     "execution_count": 30,
     "metadata": {},
     "output_type": "execute_result"
    },
    {
     "data": {
      "image/png": "[encoded data removed]",
      "text/plain": [
       "<Figure size 432x288 with 1 Axes>"
      ]
     },
     "metadata": {
      "needs_background": "light"
     },
     "output_type": "display_data"
    }
   ],
   "source": [
    "import matplotlib.pyplot as plt\n",
    "data.plot(x=\"airport\", y=[ \"Scheduled EU pax\", \"Scheduled UK pax\", \"Scheduled NON-EU pax\"], kind=\"bar\")\n",
    "\n"
   ]
  },
  {
   "cell_type": "code",
   "execution_count": 64,
   "metadata": {},
   "outputs": [
    {
     "data": {
      "text/plain": [
       "<matplotlib.axes._subplots.AxesSubplot at 0x7ff1555879e8>"
      ]
     },
     "execution_count": 64,
     "metadata": {},
     "output_type": "execute_result"
    },
    {
     "data": {
      "image/png": "[encoded data removed]",
      "text/plain": [
       "<Figure size 432x288 with 1 Axes>"
      ]
     },
     "metadata": {
      "needs_background": "light"
     },
     "output_type": "display_data"
    }
   ],
   "source": [
    "import matplotlib.pyplot as plt\n",
    "data.plot(x=\"airport\", y=[ \"Charter EU pax\", \"Charter UK pax\", \"Charter NON-EU pax\"], title=\"Charter Passengers\",kind='bar',stacked=True)\n",
    "\n"
   ]
  },
  {
   "cell_type": "code",
   "execution_count": 84,
   "metadata": {},
   "outputs": [
    {
     "data": {
      "text/plain": [
       "<matplotlib.axes._subplots.AxesSubplot at 0x7ff15001d7f0>"
      ]
     },
     "execution_count": 84,
     "metadata": {},
     "output_type": "execute_result"
    },
    {
     "data": {
      "image/png": "[encoded data removed]",
      "text/plain": [
       "<Figure size 432x288 with 1 Axes>"
      ]
     },
     "metadata": {
      "needs_background": "light"
     },
     "output_type": "display_data"
    }
   ],
   "source": [
    "import matplotlib.pyplot as plt\n",
    "data.plot(x=\"airport\", y=[ \"Charter EU pax\", \"Charter UK pax\", \"Charter NON-EU pax\"], title=\"Charter Passengers\",kind='box',stacked=True)\n",
    "\n"
   ]
  },
  {
   "cell_type": "code",
   "execution_count": 98,
   "metadata": {},
   "outputs": [
    {
     "data": {
      "text/plain": [
       "Text(0, 0.5, 'Airports')"
      ]
     },
     "execution_count": 98,
     "metadata": {},
     "output_type": "execute_result"
    },
    {
     "data": {
      "image/png": "[encoded data removed]",
      "text/plain": [
       "<Figure size 432x288 with 1 Axes>"
      ]
     },
     "metadata": {},
     "output_type": "display_data"
    }
   ],
   "source": [
    "#vis of reporting_airport_group_name variable\n",
    "counts = data['reporting_airport_group_name'].value_counts()\n",
    "ax = counts.plot.pie()\n",
    "ax.invert_yaxis() # Most popular at the top.\n",
    "ax.set_title('U.K. airports')\n",
    "ax.set_xlabel('')\n",
    "ax.set_ylabel('Airports')\n",
    "\n",
    "\n"
   ]
  }
 ],
 "metadata": {
  "kernelspec": {
   "display_name": "Python 3.6",
   "language": "python",
   "name": "python36"
  },
  "language_info": {
   "codemirror_mode": {
    "name": "ipython",
    "version": 3
   },
   "file_extension": ".py",
   "mimetype": "text/x-python",
   "name": "python",
   "nbconvert_exporter": "python",
   "pygments_lexer": "ipython3",
   "version": "3.6.3"
  }
 },
 "nbformat": 4,
 "nbformat_minor": 2
}
