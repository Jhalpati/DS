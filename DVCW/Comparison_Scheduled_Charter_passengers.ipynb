{
 "cells": [
  {
   "cell_type": "code",
   "execution_count": 1,
   "metadata": {},
   "outputs": [
    {
     "data": {
      "text/html": [
       "<div>\n",
       "<style scoped>\n",
       "    .dataframe tbody tr th:only-of-type {\n",
       "        vertical-align: middle;\n",
       "    }\n",
       "\n",
       "    .dataframe tbody tr th {\n",
       "        vertical-align: top;\n",
       "    }\n",
       "\n",
       "    .dataframe thead th {\n",
       "        text-align: right;\n",
       "    }\n",
       "</style>\n",
       "<table border=\"1\" class=\"dataframe\">\n",
       "  <thead>\n",
       "    <tr style=\"text-align: right;\">\n",
       "      <th></th>\n",
       "      <th>rundate</th>\n",
       "      <th>reporting_period</th>\n",
       "      <th>reporting_airport_group_name</th>\n",
       "      <th>reporting_airport_name</th>\n",
       "      <th>total_pax</th>\n",
       "      <th>pax_terminal_scheduled_UK</th>\n",
       "      <th>pax_transit_scheduled_UK</th>\n",
       "      <th>pax_terminal_scheduled_foreign_EU</th>\n",
       "      <th>pax_transit_scheduled_foreign_EU</th>\n",
       "      <th>pax_terminal_scheduled_foreign_non_EU</th>\n",
       "      <th>pax_transit_scheduled_foreign_non_EU</th>\n",
       "      <th>pax_terminal_charter_UK</th>\n",
       "      <th>pax_transit_charter_UK</th>\n",
       "      <th>pax_terminal_charter_foreign_EU</th>\n",
       "      <th>pax_transit_charter_foreign_EU</th>\n",
       "      <th>pax_terminal_charter_foreign_non_EU</th>\n",
       "      <th>pax_transit_charter_foreign_non_EU</th>\n",
       "    </tr>\n",
       "  </thead>\n",
       "  <tbody>\n",
       "    <tr>\n",
       "      <td>0</td>\n",
       "      <td>12/03/2019 14:40</td>\n",
       "      <td>12/04/2019 14:40</td>\n",
       "      <td>Other UK Airports</td>\n",
       "      <td>BELFAST INTERNATIONAL</td>\n",
       "      <td>405935</td>\n",
       "      <td>317825</td>\n",
       "      <td>0</td>\n",
       "      <td>78763</td>\n",
       "      <td>0</td>\n",
       "      <td>0</td>\n",
       "      <td>0</td>\n",
       "      <td>9052</td>\n",
       "      <td>0</td>\n",
       "      <td>295</td>\n",
       "      <td>0</td>\n",
       "      <td>0</td>\n",
       "      <td>0</td>\n",
       "    </tr>\n",
       "    <tr>\n",
       "      <td>1</td>\n",
       "      <td>12/03/2019 14:40</td>\n",
       "      <td>201901</td>\n",
       "      <td>Other UK Airports</td>\n",
       "      <td>BIRMINGHAM</td>\n",
       "      <td>781258</td>\n",
       "      <td>263931</td>\n",
       "      <td>0</td>\n",
       "      <td>336264</td>\n",
       "      <td>0</td>\n",
       "      <td>121819</td>\n",
       "      <td>51</td>\n",
       "      <td>56985</td>\n",
       "      <td>0</td>\n",
       "      <td>2208</td>\n",
       "      <td>0</td>\n",
       "      <td>0</td>\n",
       "      <td>0</td>\n",
       "    </tr>\n",
       "    <tr>\n",
       "      <td>2</td>\n",
       "      <td>12/03/2019 14:40</td>\n",
       "      <td>201901</td>\n",
       "      <td>Other UK Airports</td>\n",
       "      <td>BRISTOL</td>\n",
       "      <td>520854</td>\n",
       "      <td>328895</td>\n",
       "      <td>427</td>\n",
       "      <td>150611</td>\n",
       "      <td>0</td>\n",
       "      <td>0</td>\n",
       "      <td>0</td>\n",
       "      <td>35378</td>\n",
       "      <td>0</td>\n",
       "      <td>5543</td>\n",
       "      <td>0</td>\n",
       "      <td>0</td>\n",
       "      <td>0</td>\n",
       "    </tr>\n",
       "    <tr>\n",
       "      <td>3</td>\n",
       "      <td>12/03/2019 14:40</td>\n",
       "      <td>201901</td>\n",
       "      <td>Other UK Airports</td>\n",
       "      <td>EDINBURGH</td>\n",
       "      <td>920098</td>\n",
       "      <td>509602</td>\n",
       "      <td>391</td>\n",
       "      <td>347991</td>\n",
       "      <td>0</td>\n",
       "      <td>47818</td>\n",
       "      <td>226</td>\n",
       "      <td>12833</td>\n",
       "      <td>0</td>\n",
       "      <td>1237</td>\n",
       "      <td>0</td>\n",
       "      <td>0</td>\n",
       "      <td>0</td>\n",
       "    </tr>\n",
       "    <tr>\n",
       "      <td>4</td>\n",
       "      <td>12/03/2019 14:40</td>\n",
       "      <td>201901</td>\n",
       "      <td>London Area Airports</td>\n",
       "      <td>GATWICK</td>\n",
       "      <td>2953515</td>\n",
       "      <td>1982446</td>\n",
       "      <td>0</td>\n",
       "      <td>531007</td>\n",
       "      <td>0</td>\n",
       "      <td>276756</td>\n",
       "      <td>0</td>\n",
       "      <td>155688</td>\n",
       "      <td>0</td>\n",
       "      <td>7425</td>\n",
       "      <td>0</td>\n",
       "      <td>193</td>\n",
       "      <td>0</td>\n",
       "    </tr>\n",
       "  </tbody>\n",
       "</table>\n",
       "</div>"
      ],
      "text/plain": [
       "            rundate  reporting_period reporting_airport_group_name  \\\n",
       "0  12/03/2019 14:40  12/04/2019 14:40            Other UK Airports   \n",
       "1  12/03/2019 14:40            201901            Other UK Airports   \n",
       "2  12/03/2019 14:40            201901            Other UK Airports   \n",
       "3  12/03/2019 14:40            201901            Other UK Airports   \n",
       "4  12/03/2019 14:40            201901         London Area Airports   \n",
       "\n",
       "  reporting_airport_name  total_pax  pax_terminal_scheduled_UK  \\\n",
       "0  BELFAST INTERNATIONAL     405935                     317825   \n",
       "1             BIRMINGHAM     781258                     263931   \n",
       "2                BRISTOL     520854                     328895   \n",
       "3              EDINBURGH     920098                     509602   \n",
       "4                GATWICK    2953515                    1982446   \n",
       "\n",
       "   pax_transit_scheduled_UK  pax_terminal_scheduled_foreign_EU  \\\n",
       "0                         0                              78763   \n",
       "1                         0                             336264   \n",
       "2                       427                             150611   \n",
       "3                       391                             347991   \n",
       "4                         0                             531007   \n",
       "\n",
       "   pax_transit_scheduled_foreign_EU  pax_terminal_scheduled_foreign_non_EU  \\\n",
       "0                                 0                                      0   \n",
       "1                                 0                                 121819   \n",
       "2                                 0                                      0   \n",
       "3                                 0                                  47818   \n",
       "4                                 0                                 276756   \n",
       "\n",
       "   pax_transit_scheduled_foreign_non_EU  pax_terminal_charter_UK  \\\n",
       "0                                     0                     9052   \n",
       "1                                    51                    56985   \n",
       "2                                     0                    35378   \n",
       "3                                   226                    12833   \n",
       "4                                     0                   155688   \n",
       "\n",
       "   pax_transit_charter_UK  pax_terminal_charter_foreign_EU  \\\n",
       "0                       0                              295   \n",
       "1                       0                             2208   \n",
       "2                       0                             5543   \n",
       "3                       0                             1237   \n",
       "4                       0                             7425   \n",
       "\n",
       "   pax_transit_charter_foreign_EU  pax_terminal_charter_foreign_non_EU  \\\n",
       "0                               0                                    0   \n",
       "1                               0                                    0   \n",
       "2                               0                                    0   \n",
       "3                               0                                    0   \n",
       "4                               0                                  193   \n",
       "\n",
       "   pax_transit_charter_foreign_non_EU  \n",
       "0                                   0  \n",
       "1                                   0  \n",
       "2                                   0  \n",
       "3                                   0  \n",
       "4                                   0  "
      ]
     },
     "execution_count": 1,
     "metadata": {},
     "output_type": "execute_result"
    }
   ],
   "source": [
    "#importing required libraries\n",
    "import matplotlib as plt\n",
    "import pandas as pd\n",
    "\n",
    "#reading the .csv and loading it into the dataframe\n",
    "data = pd.read_csv('./Copy of Table_08_Air_Pax_by_Type_and_Nat_of_Op(3).csv')\n",
    "\n",
    "data.head()"
   ]
  },
  {
   "cell_type": "code",
   "execution_count": 2,
   "metadata": {},
   "outputs": [
    {
     "data": {
      "text/html": [
       "<div>\n",
       "<style scoped>\n",
       "    .dataframe tbody tr th:only-of-type {\n",
       "        vertical-align: middle;\n",
       "    }\n",
       "\n",
       "    .dataframe tbody tr th {\n",
       "        vertical-align: top;\n",
       "    }\n",
       "\n",
       "    .dataframe thead th {\n",
       "        text-align: right;\n",
       "    }\n",
       "</style>\n",
       "<table border=\"1\" class=\"dataframe\">\n",
       "  <thead>\n",
       "    <tr style=\"text-align: right;\">\n",
       "      <th></th>\n",
       "      <th>reporting_airport_group_name</th>\n",
       "      <th>reporting_airport_name</th>\n",
       "      <th>total_pax</th>\n",
       "      <th>pax_terminal_scheduled_UK</th>\n",
       "      <th>pax_terminal_scheduled_foreign_EU</th>\n",
       "      <th>pax_terminal_scheduled_foreign_non_EU</th>\n",
       "      <th>pax_terminal_charter_UK</th>\n",
       "      <th>pax_terminal_charter_foreign_EU</th>\n",
       "      <th>pax_terminal_charter_foreign_non_EU</th>\n",
       "    </tr>\n",
       "  </thead>\n",
       "  <tbody>\n",
       "    <tr>\n",
       "      <td>5</td>\n",
       "      <td>Other UK Airports</td>\n",
       "      <td>GLASGOW</td>\n",
       "      <td>526761</td>\n",
       "      <td>382025</td>\n",
       "      <td>85209</td>\n",
       "      <td>44823</td>\n",
       "      <td>13957</td>\n",
       "      <td>0</td>\n",
       "      <td>0</td>\n",
       "    </tr>\n",
       "    <tr>\n",
       "      <td>6</td>\n",
       "      <td>London Area Airports</td>\n",
       "      <td>HEATHROW</td>\n",
       "      <td>5928655</td>\n",
       "      <td>2995384</td>\n",
       "      <td>847634</td>\n",
       "      <td>2083058</td>\n",
       "      <td>662</td>\n",
       "      <td>487</td>\n",
       "      <td>0</td>\n",
       "    </tr>\n",
       "    <tr>\n",
       "      <td>7</td>\n",
       "      <td>London Area Airports</td>\n",
       "      <td>LUTON</td>\n",
       "      <td>1156359</td>\n",
       "      <td>610775</td>\n",
       "      <td>534278</td>\n",
       "      <td>3131</td>\n",
       "      <td>6891</td>\n",
       "      <td>1284</td>\n",
       "      <td>0</td>\n",
       "    </tr>\n",
       "    <tr>\n",
       "      <td>8</td>\n",
       "      <td>Other UK Airports</td>\n",
       "      <td>MANCHESTER</td>\n",
       "      <td>1784815</td>\n",
       "      <td>771325</td>\n",
       "      <td>572137</td>\n",
       "      <td>317952</td>\n",
       "      <td>116944</td>\n",
       "      <td>3441</td>\n",
       "      <td>845</td>\n",
       "    </tr>\n",
       "    <tr>\n",
       "      <td>9</td>\n",
       "      <td>London Area Airports</td>\n",
       "      <td>STANSTED</td>\n",
       "      <td>1930066</td>\n",
       "      <td>234498</td>\n",
       "      <td>1603440</td>\n",
       "      <td>75731</td>\n",
       "      <td>15746</td>\n",
       "      <td>651</td>\n",
       "      <td>0</td>\n",
       "    </tr>\n",
       "  </tbody>\n",
       "</table>\n",
       "</div>"
      ],
      "text/plain": [
       "  reporting_airport_group_name reporting_airport_name  total_pax  \\\n",
       "5            Other UK Airports                GLASGOW     526761   \n",
       "6         London Area Airports               HEATHROW    5928655   \n",
       "7         London Area Airports                  LUTON    1156359   \n",
       "8            Other UK Airports             MANCHESTER    1784815   \n",
       "9         London Area Airports               STANSTED    1930066   \n",
       "\n",
       "   pax_terminal_scheduled_UK  pax_terminal_scheduled_foreign_EU  \\\n",
       "5                     382025                              85209   \n",
       "6                    2995384                             847634   \n",
       "7                     610775                             534278   \n",
       "8                     771325                             572137   \n",
       "9                     234498                            1603440   \n",
       "\n",
       "   pax_terminal_scheduled_foreign_non_EU  pax_terminal_charter_UK  \\\n",
       "5                                  44823                    13957   \n",
       "6                                2083058                      662   \n",
       "7                                   3131                     6891   \n",
       "8                                 317952                   116944   \n",
       "9                                  75731                    15746   \n",
       "\n",
       "   pax_terminal_charter_foreign_EU  pax_terminal_charter_foreign_non_EU  \n",
       "5                                0                                    0  \n",
       "6                              487                                    0  \n",
       "7                             1284                                    0  \n",
       "8                             3441                                  845  \n",
       "9                              651                                    0  "
      ]
     },
     "execution_count": 2,
     "metadata": {},
     "output_type": "execute_result"
    }
   ],
   "source": [
    "#Eliminating unnecessary columns\n",
    "data = data.drop([\"rundate\",\"reporting_period\", \"pax_transit_scheduled_UK\", \"pax_transit_scheduled_foreign_EU\",\"pax_transit_scheduled_foreign_non_EU\", \"pax_transit_charter_UK\", \"pax_transit_charter_foreign_EU\",\"pax_transit_charter_foreign_non_EU\"], axis=1)\n",
    "#Displaying data\n",
    "data.tail()"
   ]
  },
  {
   "cell_type": "code",
   "execution_count": 3,
   "metadata": {},
   "outputs": [
    {
     "name": "stdout",
     "output_type": "stream",
     "text": [
      "Index(['reporting_airport_group_name', 'airport', 'total_pax',\n",
      "       'Scheduled UK pax', 'Scheduled EU pax', 'Scheduled NON-EU pax',\n",
      "       'Charter UK pax', 'Charter EU pax', 'Charter NON-EU pax'],\n",
      "      dtype='object')\n"
     ]
    }
   ],
   "source": [
    "#Changing columns name\n",
    "data.rename(columns={'reporting_airport_name':'airport', 'pax_terminal_scheduled_UK':'Scheduled UK pax', 'pax_terminal_scheduled_foreign_EU':'Scheduled EU pax',\n",
    "       'pax_terminal_charter_UK':'Charter UK pax',\n",
    "        'pax_terminal_charter_foreign_EU':'Charter EU pax',\n",
    "       'pax_terminal_charter_foreign_non_EU': 'Charter NON-EU pax','pax_terminal_scheduled_foreign_non_EU':'Scheduled NON-EU pax'}, inplace=True)\n",
    "print(data.columns)\n",
    "data.dropna(inplace = True) "
   ]
  },
  {
   "cell_type": "code",
   "execution_count": 22,
   "metadata": {},
   "outputs": [],
   "source": [
    "#Declaring as categories\n",
    "\n",
    "data['airport'] = data['airport'].astype('category')\n",
    "data['reporting_airport_group_name'] = data['reporting_airport_group_name'].astype('category')\n"
   ]
  },
  {
   "cell_type": "code",
   "execution_count": 12,
   "metadata": {},
   "outputs": [
    {
     "data": {
      "text/plain": [
       "<matplotlib.axes._subplots.AxesSubplot at 0x7f4618a60eb8>"
      ]
     },
     "execution_count": 12,
     "metadata": {},
     "output_type": "execute_result"
    },
    {
     "data": {
      "image/png": "[encoded data removed]",
      "text/plain": [
       "<Figure size 432x288 with 1 Axes>"
      ]
     },
     "metadata": {
      "needs_background": "light"
     },
     "output_type": "display_data"
    }
   ],
   "source": [
    "#importing additional module\n",
    "import matplotlib.pyplot as plt\n",
    "\n",
    "#Plotting data\n",
    "data.plot(x=\"airport\", y=[ \"Charter UK pax\", \"Scheduled UK pax\"], kind=\"bar\", title=\"Charter U.K. pax vs Scheduled U.K. pax\")\n",
    "\n"
   ]
  },
  {
   "cell_type": "code",
   "execution_count": 24,
   "metadata": {},
   "outputs": [
    {
     "data": {
      "text/plain": [
       "<matplotlib.axes._subplots.AxesSubplot at 0x7f4618982d30>"
      ]
     },
     "execution_count": 24,
     "metadata": {},
     "output_type": "execute_result"
    },
    {
     "data": {
      "image/png": "[encoded data removed]",
      "text/plain": [
       "<Figure size 432x288 with 1 Axes>"
      ]
     },
     "metadata": {
      "needs_background": "light"
     },
     "output_type": "display_data"
    }
   ],
   "source": [
    "#importing additional module\n",
    "import matplotlib.pyplot as plt\n",
    "\n",
    "#Plotting data\n",
    "data.plot(x=\"airport\", y=[ \"Charter EU pax\", \"Scheduled EU pax\"], kind=\"bar\", title=\"Charter EU pax vs Scheduled EU pax\")\n",
    "\n"
   ]
  },
  {
   "cell_type": "code",
   "execution_count": 25,
   "metadata": {},
   "outputs": [
    {
     "data": {
      "text/plain": [
       "<matplotlib.axes._subplots.AxesSubplot at 0x7f461865b240>"
      ]
     },
     "execution_count": 25,
     "metadata": {},
     "output_type": "execute_result"
    },
    {
     "data": {
      "image/png": "[encoded data removed]",
      "text/plain": [
       "<Figure size 432x288 with 1 Axes>"
      ]
     },
     "metadata": {
      "needs_background": "light"
     },
     "output_type": "display_data"
    }
   ],
   "source": [
    "#importing additional module\n",
    "import matplotlib.pyplot as plt\n",
    "\n",
    "#Plotting data\n",
    "data.plot(x=\"airport\", y=[ \"Charter NON-EU pax\", \"Scheduled NON-EU pax\"], kind=\"bar\", title=\"Charter NON-EU pax vs Scheduled NON-EU pax\")\n",
    "\n"
   ]
  }
 ],
 "metadata": {
  "kernelspec": {
   "display_name": "Python 3.6",
   "language": "python",
   "name": "python36"
  },
  "language_info": {
   "codemirror_mode": {
    "name": "ipython",
    "version": 3
   },
   "file_extension": ".py",
   "mimetype": "text/x-python",
   "name": "python",
   "nbconvert_exporter": "python",
   "pygments_lexer": "ipython3",
   "version": "3.6.3"
  }
 },
 "nbformat": 4,
 "nbformat_minor": 2
}
